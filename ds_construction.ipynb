{
 "cells": [
  {
   "cell_type": "markdown",
   "metadata": {},
   "source": [
    "# Table of Contents\n",
    "* [Build dataset](#Build-dataset)\n"
   ]
  },
  {
   "cell_type": "code",
   "execution_count": 1,
   "metadata": {
    "collapsed": true
   },
   "outputs": [],
   "source": [
    "%%capture\n",
    "from __future__ import division\n",
    "import numpy as np\n",
    "import pandas as pd\n",
    "import scipy.stats as st\n",
    "import itertools\n",
    "import math\n",
    "from collections import Counter, defaultdict\n",
    "%load_ext autoreload\n",
    "%autoreload 2"
   ]
  },
  {
   "cell_type": "code",
   "execution_count": 64,
   "metadata": {
    "collapsed": true
   },
   "outputs": [],
   "source": [
    "import glob"
   ]
  },
  {
   "cell_type": "code",
   "execution_count": 63,
   "metadata": {
    "collapsed": true
   },
   "outputs": [],
   "source": [
    "from sun_utils.build_ds import build_dataset"
   ]
  },
  {
   "cell_type": "markdown",
   "metadata": {
    "run_control": {
     "frozen": false,
     "read_only": false
    }
   },
   "source": [
    "# Build dataset"
   ]
  },
  {
   "cell_type": "code",
   "execution_count": 61,
   "metadata": {
    "collapsed": true
   },
   "outputs": [],
   "source": [
    "\"\"\"\n",
    "design draft v3:\n",
    "{\n",
    "    image: {\n",
    "        name\n",
    "        scene\n",
    "        layout\n",
    "        intrinsics\n",
    "        detector\n",
    "        filenames: {\n",
    "            image\n",
    "            fullres\n",
    "            depth\n",
    "        }\n",
    "        segmentation_arr\n",
    "        objects : {\n",
    "            obj_id: {\n",
    "                label\n",
    "                globalID\n",
    "                2D: {\n",
    "                    polygon: []\n",
    "                    rectangle: [\n",
    "                },\n",
    "                3D: {\n",
    "                    depth\n",
    "                },\n",
    "                phys_props: {\n",
    "                    \n",
    "                }\n",
    "            }\n",
    "            .\n",
    "            .\n",
    "            .\n",
    "        }\n",
    "    }\n",
    "}\n",
    "\"\"\"\n",
    "None"
   ]
  },
  {
   "cell_type": "code",
   "execution_count": 65,
   "metadata": {
    "collapsed": false
   },
   "outputs": [],
   "source": [
    "all_ds_files = glob.glob('./SUNRGBD/**', recursive=True)"
   ]
  },
  {
   "cell_type": "code",
   "execution_count": 66,
   "metadata": {
    "collapsed": false
   },
   "outputs": [
    {
     "name": "stderr",
     "output_type": "stream",
     "text": [
      "100%|██████████| 10335/10335 [00:06<00:00, 1675.60it/s]\n",
      "100%|██████████| 10333/10333 [00:03<00:00, 2718.31it/s]\n",
      "100%|██████████| 10331/10331 [00:03<00:00, 3245.91it/s]\n"
     ]
    }
   ],
   "source": [
    "sun_ds_scaf = build_dataset(all_ds_files)"
   ]
  },
  {
   "cell_type": "code",
   "execution_count": 67,
   "metadata": {
    "collapsed": false
   },
   "outputs": [],
   "source": [
    "single_image_anno = list(sun_ds_scaf.values())[2500]"
   ]
  },
  {
   "cell_type": "code",
   "execution_count": 69,
   "metadata": {
    "collapsed": false,
    "scrolled": false
   },
   "outputs": [],
   "source": [
    "# %page single_image_anno"
   ]
  },
  {
   "cell_type": "code",
   "execution_count": null,
   "metadata": {
    "collapsed": true
   },
   "outputs": [],
   "source": []
  },
  {
   "cell_type": "code",
   "execution_count": null,
   "metadata": {
    "collapsed": true
   },
   "outputs": [],
   "source": []
  },
  {
   "cell_type": "code",
   "execution_count": null,
   "metadata": {
    "collapsed": true
   },
   "outputs": [],
   "source": []
  },
  {
   "cell_type": "code",
   "execution_count": null,
   "metadata": {
    "collapsed": true
   },
   "outputs": [],
   "source": []
  },
  {
   "cell_type": "code",
   "execution_count": null,
   "metadata": {
    "collapsed": true
   },
   "outputs": [],
   "source": []
  },
  {
   "cell_type": "markdown",
   "metadata": {
    "heading_collapsed": true
   },
   "source": [
    "# Hide"
   ]
  },
  {
   "cell_type": "code",
   "execution_count": 71,
   "metadata": {
    "collapsed": false,
    "hidden": true
   },
   "outputs": [],
   "source": [
    "# fnl = [anno['2D']['fileList'] for anno in sun_ds_scaf.values() if '2D' in anno.keys() and len(anno['2D']['fileList']) == 1]\n",
    "\n",
    "# pd.Series([len(anno['2D']['fileList']) for anno in sun_ds_scaf.values() if '2D' in anno.keys()]).value_counts()\n",
    "\n",
    "# cflct = [anno['2D']['conflictList'] for anno in sun_ds_scaf.values() if '2D' in anno.keys() and len(anno['2D']['fileList']) == 1]"
   ]
  }
 ],
 "metadata": {
  "kernelspec": {
   "display_name": "Python 3",
   "language": "python",
   "name": "python3"
  },
  "language_info": {
   "codemirror_mode": {
    "name": "ipython",
    "version": 3
   },
   "file_extension": ".py",
   "mimetype": "text/x-python",
   "name": "python",
   "nbconvert_exporter": "python",
   "pygments_lexer": "ipython3",
   "version": "3.6.0"
  }
 },
 "nbformat": 4,
 "nbformat_minor": 2
}
