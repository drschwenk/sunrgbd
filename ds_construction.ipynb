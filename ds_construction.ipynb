{
 "cells": [
  {
   "cell_type": "markdown",
   "metadata": {
    "deletable": true,
    "editable": true
   },
   "source": [
    "# Table of Contents\n",
    "* [Build dataset](#Build-dataset)\n"
   ]
  },
  {
   "cell_type": "code",
   "execution_count": 1,
   "metadata": {
    "collapsed": true,
    "deletable": true,
    "editable": true,
    "run_control": {
     "frozen": false,
     "read_only": false
    }
   },
   "outputs": [],
   "source": [
    "%%capture\n",
    "from __future__ import division\n",
    "import numpy as np\n",
    "import pandas as pd\n",
    "import scipy.stats as st\n",
    "import itertools\n",
    "import math\n",
    "from collections import Counter, defaultdict\n",
    "%load_ext autoreload\n",
    "%autoreload 2"
   ]
  },
  {
   "cell_type": "code",
   "execution_count": 346,
   "metadata": {
    "collapsed": true,
    "deletable": true,
    "editable": true,
    "run_control": {
     "frozen": false,
     "read_only": false
    }
   },
   "outputs": [],
   "source": [
    "import glob\n",
    "import json\n",
    "\n",
    "from scipy.io.matlab import loadmat\n",
    "from scipy.io.matlab import savemat"
   ]
  },
  {
   "cell_type": "code",
   "execution_count": 212,
   "metadata": {
    "collapsed": true,
    "deletable": true,
    "editable": true,
    "run_control": {
     "frozen": false,
     "read_only": false
    }
   },
   "outputs": [],
   "source": [
    "from sun_utils.build_ds import read_sun_dataset, build_dataset"
   ]
  },
  {
   "cell_type": "code",
   "execution_count": 75,
   "metadata": {
    "code_folding": [
     2
    ],
    "collapsed": true,
    "deletable": true,
    "editable": true,
    "run_control": {
     "frozen": false,
     "read_only": false
    }
   },
   "outputs": [],
   "source": [
    "\"\"\"\n",
    "design draft v3:\n",
    "{\n",
    "    image: {\n",
    "        name\n",
    "        scene\n",
    "        layout\n",
    "        intrinsics\n",
    "        detector\n",
    "        filenames: {\n",
    "            image\n",
    "            fullres\n",
    "            depth\n",
    "        }\n",
    "        segmentation_arr\n",
    "        objects : {\n",
    "            obj_id: {\n",
    "                label\n",
    "                globalID\n",
    "                2D: {\n",
    "                    polygon: []\n",
    "                    rectangle: [\n",
    "                },\n",
    "                3D: {\n",
    "                    depth\n",
    "                },\n",
    "                phys_props: {\n",
    "                    \n",
    "                }\n",
    "            }\n",
    "            .\n",
    "            .\n",
    "            .\n",
    "        }\n",
    "    }\n",
    "}\n",
    "\"\"\"\n",
    "None"
   ]
  },
  {
   "cell_type": "markdown",
   "metadata": {
    "deletable": true,
    "editable": true,
    "run_control": {
     "frozen": false,
     "read_only": false
    }
   },
   "source": [
    "# Build dataset"
   ]
  },
  {
   "cell_type": "code",
   "execution_count": 208,
   "metadata": {
    "collapsed": true,
    "deletable": true,
    "editable": true,
    "run_control": {
     "frozen": false,
     "read_only": false
    }
   },
   "outputs": [],
   "source": [
    "all_ds_files = glob.glob('./SUNRGBD/*/*/*/annotation2Dfinal/*') + glob.glob('./SUNRGBD/*/*/*/*/*/annotation2Dfinal/*')"
   ]
  },
  {
   "cell_type": "code",
   "execution_count": 1029,
   "metadata": {
    "collapsed": true,
    "deletable": true,
    "editable": true,
    "run_control": {
     "frozen": false,
     "read_only": false
    }
   },
   "outputs": [],
   "source": [
    "import pickle"
   ]
  },
  {
   "cell_type": "code",
   "execution_count": 1040,
   "metadata": {
    "collapsed": false,
    "deletable": true,
    "editable": true,
    "run_control": {
     "frozen": false,
     "read_only": false
    }
   },
   "outputs": [],
   "source": [
    "with open('image_heights.pkl', 'rb') as f:\n",
    "    img_heights = pickle.load(f)"
   ]
  },
  {
   "cell_type": "code",
   "execution_count": 1041,
   "metadata": {
    "collapsed": false,
    "deletable": true,
    "editable": true,
    "run_control": {
     "frozen": false,
     "read_only": false
    }
   },
   "outputs": [
    {
     "data": {
      "text/plain": [
       "10270"
      ]
     },
     "execution_count": 1041,
     "metadata": {},
     "output_type": "execute_result"
    }
   ],
   "source": [
    "len(img_heights)"
   ]
  },
  {
   "cell_type": "code",
   "execution_count": 1123,
   "metadata": {
    "collapsed": false,
    "deletable": true,
    "editable": true,
    "run_control": {
     "frozen": false,
     "read_only": false
    }
   },
   "outputs": [
    {
     "name": "stderr",
     "output_type": "stream",
     "text": [
      "100%|██████████| 10343/10343 [00:17<00:00, 577.81it/s] \n"
     ]
    }
   ],
   "source": [
    "sun_ds = read_sun_dataset(all_ds_files)"
   ]
  },
  {
   "cell_type": "code",
   "execution_count": 1014,
   "metadata": {
    "collapsed": false,
    "deletable": true,
    "editable": true,
    "run_control": {
     "frozen": false,
     "read_only": false
    }
   },
   "outputs": [
    {
     "data": {
      "text/plain": [
       "dict_keys(['objects', 'intrinsics', 'scene', 'imgPath'])"
      ]
     },
     "execution_count": 1014,
     "metadata": {},
     "output_type": "execute_result"
    }
   ],
   "source": [
    "sun_ds['img_0063'].keys()"
   ]
  },
  {
   "cell_type": "code",
   "execution_count": 1028,
   "metadata": {
    "collapsed": false,
    "deletable": true,
    "editable": true,
    "run_control": {
     "frozen": false,
     "read_only": false
    },
    "scrolled": false
   },
   "outputs": [
    {
     "data": {
      "text/plain": [
       "{'XYZ': [[0.6463785768, -0.8149276972, 1.68589294],\n",
       "  [1.114413023, -0.8906619549, 1.849921346],\n",
       "  [1.300476313, -0.1937646419, 2.118254662],\n",
       "  [1.120898366, -0.1578154862, 1.973999977],\n",
       "  [0.9657916427, -0.157877028, 1.974769831],\n",
       "  [0.9464537501, 0.1455664337, 1.973999977],\n",
       "  [0.6835758686, 0.2090383172, 2.038234234],\n",
       "  [0.660431087, -0.3856904507, 2.015401602],\n",
       "  [0.7216860652, -0.3940743804, 1.854435086],\n",
       "  [0.6959689856, -0.5536916256, 1.900960922],\n",
       "  [0.6971981525, -0.5546694994, 1.904318333],\n",
       "  [0.6785163879, -0.8924766779, 1.824569106]],\n",
       " 'annotator': '112.95.194.147',\n",
       " 'object': 1,\n",
       " 'x': [477, 591, 597, 573, 532, 527, 452, 448, 480, 468, 468, 471],\n",
       " 'y': [-37, -36, 167, 173, 173, 253, 268, 115, 104, 63, 63, -40]}"
      ]
     },
     "execution_count": 1028,
     "metadata": {},
     "output_type": "execute_result"
    }
   ],
   "source": [
    "sun_ds['img_0063']['objects']['2D']['frames'][0]['polygon'][0]"
   ]
  },
  {
   "cell_type": "code",
   "execution_count": 987,
   "metadata": {
    "collapsed": false,
    "deletable": true,
    "editable": true,
    "run_control": {
     "frozen": false,
     "read_only": false
    }
   },
   "outputs": [],
   "source": [
    "pqa_ds_scaff = build_dataset(sun_ds)"
   ]
  },
  {
   "cell_type": "code",
   "execution_count": null,
   "metadata": {
    "collapsed": true,
    "deletable": true,
    "editable": true,
    "run_control": {
     "frozen": false,
     "read_only": false
    }
   },
   "outputs": [],
   "source": []
  },
  {
   "cell_type": "code",
   "execution_count": null,
   "metadata": {
    "collapsed": true,
    "deletable": true,
    "editable": true,
    "run_control": {
     "frozen": false,
     "read_only": false
    }
   },
   "outputs": [],
   "source": []
  },
  {
   "cell_type": "code",
   "execution_count": null,
   "metadata": {
    "collapsed": true,
    "deletable": true,
    "editable": true,
    "run_control": {
     "frozen": false,
     "read_only": false
    }
   },
   "outputs": [],
   "source": []
  },
  {
   "cell_type": "code",
   "execution_count": null,
   "metadata": {
    "collapsed": true,
    "deletable": true,
    "editable": true,
    "run_control": {
     "frozen": false,
     "read_only": false
    }
   },
   "outputs": [],
   "source": []
  },
  {
   "cell_type": "code",
   "execution_count": null,
   "metadata": {
    "collapsed": true,
    "deletable": true,
    "editable": true,
    "run_control": {
     "frozen": false,
     "read_only": false
    }
   },
   "outputs": [],
   "source": []
  },
  {
   "cell_type": "code",
   "execution_count": null,
   "metadata": {
    "collapsed": true,
    "deletable": true,
    "editable": true,
    "run_control": {
     "frozen": false,
     "read_only": false
    }
   },
   "outputs": [],
   "source": []
  },
  {
   "cell_type": "code",
   "execution_count": null,
   "metadata": {
    "collapsed": true,
    "deletable": true,
    "editable": true,
    "run_control": {
     "frozen": false,
     "read_only": false
    }
   },
   "outputs": [],
   "source": []
  },
  {
   "cell_type": "markdown",
   "metadata": {
    "deletable": true,
    "editable": true
   },
   "source": [
    "# Build from matlab"
   ]
  },
  {
   "cell_type": "code",
   "execution_count": 712,
   "metadata": {
    "collapsed": false,
    "deletable": true,
    "editable": true,
    "run_control": {
     "frozen": false,
     "read_only": false
    }
   },
   "outputs": [],
   "source": [
    "# updated_2d_bbs = loadmat('./SUNRGBDMeta2DBB_v2.mat', squeeze_me=True)\n",
    "updated_3d_bbs = loadmat('./SUNRGBDMeta3DBB_v2.mat', squeeze_me=True)['SUNRGBDMeta'].T"
   ]
  },
  {
   "cell_type": "code",
   "execution_count": 761,
   "metadata": {
    "collapsed": false,
    "deletable": true,
    "editable": true,
    "run_control": {
     "frozen": false,
     "read_only": false
    }
   },
   "outputs": [
    {
     "data": {
      "text/plain": [
       "dtype([('sequenceName', 'O'), ('Rtilt', 'O'), ('K', 'O'), ('depthpath', 'O'), ('rgbpath', 'O'), ('anno_extrinsics', 'O'), ('depthname', 'O'), ('rgbname', 'O'), ('sensorType', 'O'), ('valid', 'O'), ('gtCorner3D', 'O'), ('groundtruth3DBB_tight', 'O'), ('groundtruth2DBB_tight', 'O'), ('groundtruth2DBB_full', 'O'), ('groundtruth2DBB_tight_proj', 'O'), ('groundtruth3DBB', 'O')])"
      ]
     },
     "execution_count": 761,
     "metadata": {},
     "output_type": "execute_result"
    }
   ],
   "source": [
    "updated_3d_bbs[0].dtype"
   ]
  },
  {
   "cell_type": "code",
   "execution_count": 798,
   "metadata": {
    "collapsed": false,
    "deletable": true,
    "editable": true,
    "run_control": {
     "frozen": false,
     "read_only": false
    }
   },
   "outputs": [
    {
     "data": {
      "text/plain": [
       "dtype([('basis', 'O'), ('coeffs', 'O'), ('centroid', 'O'), ('classname', 'O'), ('sequenceName', 'O'), ('orientation', 'O'), ('label', 'O')])"
      ]
     },
     "execution_count": 798,
     "metadata": {},
     "output_type": "execute_result"
    }
   ],
   "source": [
    "updated_3d_bbs['groundtruth3DBB'][0].dtype"
   ]
  },
  {
   "cell_type": "code",
   "execution_count": 800,
   "metadata": {
    "code_folding": [
     0
    ],
    "collapsed": false,
    "deletable": true,
    "editable": true,
    "run_control": {
     "frozen": false,
     "read_only": false
    }
   },
   "outputs": [],
   "source": [
    "def build_v2_addition(v2_matlab_arr):\n",
    "    v2_anno = {}\n",
    "#     for i in range(v2_matlab_arr.shape[0]):\n",
    "    for i in range(100):\n",
    "        try:\n",
    "            image_name = v2_matlab_arr[i]['sequenceName'].split('/')[-1]\n",
    "            bboxes = v2_matlab_arr['groundtruth2DBB'][i][0][0]\n",
    "            v2_anno[image_name] = {\n",
    "                'objects': {\n",
    "                    bboxes[j]['objid'].item(): \n",
    "                    {\n",
    "                        'classname': bboxes[j]['classname'].item(),\n",
    "                        'has3D': bboxes[j]['has3dbox'].item(), \n",
    "                        'rect': bboxes[j]['gtBb2D'].tolist()\n",
    "                    } \n",
    "                    for j in range(bboxes.shape[0])\n",
    "                }\n",
    "            }\n",
    "        except IndexError as e:\n",
    "             v2_anno[image_name] = {}\n",
    "    return v2_anno\n",
    "\n",
    "def build_v2_addition_3d(v2_matlab_arr):\n",
    "    v2_anno = {}\n",
    "    for i in range(100):\n",
    "        try:\n",
    "            image_name = v2_matlab_arr[i]['sequenceName'].split('/')[-1]\n",
    "            bboxes = v2_matlab_arr[i]['groundtruth3DBB']\n",
    "#             print(bboxes.dtype.names)\n",
    "            v2_anno[image_name] = {\n",
    "                'objects': {\n",
    "                    j: \n",
    "                    {\n",
    "                        'classname': bboxes['classname'][j],\n",
    "                    } \n",
    "                    for j in range(bboxes.shape[0])\n",
    "                }\n",
    "            }\n",
    "        except IndexError as e:\n",
    "             v2_anno[image_name] = {}\n",
    "    return v2_anno"
   ]
  },
  {
   "cell_type": "code",
   "execution_count": 801,
   "metadata": {
    "collapsed": false,
    "deletable": true,
    "editable": true,
    "run_control": {
     "frozen": false,
     "read_only": false
    }
   },
   "outputs": [],
   "source": [
    "# v2_2d = build_v2_addition(updated_2d_bbs)"
   ]
  },
  {
   "cell_type": "code",
   "execution_count": 822,
   "metadata": {
    "collapsed": false,
    "deletable": true,
    "editable": true,
    "run_control": {
     "frozen": false,
     "read_only": false
    }
   },
   "outputs": [],
   "source": [
    "v2_3d = build_v2_addition_3d(updated_3d_bbs)"
   ]
  },
  {
   "cell_type": "code",
   "execution_count": 351,
   "metadata": {
    "collapsed": false,
    "deletable": true,
    "editable": true,
    "run_control": {
     "frozen": false,
     "read_only": false
    },
    "scrolled": false
   },
   "outputs": [],
   "source": [
    "test_array = updated_2d_bbs[:10]"
   ]
  },
  {
   "cell_type": "code",
   "execution_count": 340,
   "metadata": {
    "collapsed": false,
    "deletable": true,
    "editable": true,
    "run_control": {
     "frozen": false,
     "read_only": false
    }
   },
   "outputs": [
    {
     "data": {
      "text/plain": [
       "dict_keys(['objects'])"
      ]
     },
     "execution_count": 340,
     "metadata": {},
     "output_type": "execute_result"
    }
   ],
   "source": [
    "list(v2_2d.values())[0].keys()"
   ]
  },
  {
   "cell_type": "code",
   "execution_count": 826,
   "metadata": {
    "collapsed": false,
    "deletable": true,
    "editable": true,
    "run_control": {
     "frozen": false,
     "read_only": false
    },
    "scrolled": true
   },
   "outputs": [],
   "source": [
    "sun_objs = []\n",
    "for image, objs in v2_2d.items():\n",
    "#     names = ['name','objects']\n",
    "#     formats = ['O','O']\n",
    "#     dtype = dict(names = names, formats=formats)\n",
    "#     object_array = np.array(list(objs['objects'].items()), dtype=dtype)\n",
    "    image_array = {'objects': list(objs['objects'].items()), 'imageName': image}\n",
    "    sun_objs.append(image_array)"
   ]
  },
  {
   "cell_type": "code",
   "execution_count": 809,
   "metadata": {
    "collapsed": false,
    "deletable": true,
    "editable": true,
    "run_control": {
     "frozen": false,
     "read_only": false
    }
   },
   "outputs": [],
   "source": [
    "sun_objs = []\n",
    "for image, objs in v2_3d.items():\n",
    "    if not objs:\n",
    "        continue\n",
    "    image_array = {'objects': list(objs['objects'].items()), 'imageName': image}\n",
    "    sun_objs.append(image_array)"
   ]
  },
  {
   "cell_type": "code",
   "execution_count": 808,
   "metadata": {
    "collapsed": false,
    "deletable": true,
    "editable": true,
    "run_control": {
     "frozen": false,
     "read_only": false
    }
   },
   "outputs": [
    {
     "data": {
      "text/plain": [
       "dtype([('name', 'O'), ('objects', 'O')])"
      ]
     },
     "execution_count": 808,
     "metadata": {},
     "output_type": "execute_result"
    }
   ],
   "source": [
    "object_array.dtype"
   ]
  },
  {
   "cell_type": "code",
   "execution_count": 371,
   "metadata": {
    "collapsed": false,
    "deletable": true,
    "editable": true,
    "run_control": {
     "frozen": false,
     "read_only": false
    }
   },
   "outputs": [],
   "source": [
    "# sample_sun_objs = {k: v for k, v in sun_objs.items() if not v.update({'attached': 1})}"
   ]
  },
  {
   "cell_type": "code",
   "execution_count": 814,
   "metadata": {
    "collapsed": false,
    "deletable": true,
    "editable": true,
    "run_control": {
     "frozen": false,
     "read_only": false
    }
   },
   "outputs": [],
   "source": [
    "savemat('test_order_3d.mat', {'sun3DMeta': sun_objs})"
   ]
  },
  {
   "cell_type": "code",
   "execution_count": 815,
   "metadata": {
    "collapsed": true,
    "deletable": true,
    "editable": true,
    "run_control": {
     "frozen": false,
     "read_only": false
    }
   },
   "outputs": [],
   "source": [
    "test_order = loadmat('test_order_3d.mat', squeeze_me=True)"
   ]
  },
  {
   "cell_type": "code",
   "execution_count": 819,
   "metadata": {
    "collapsed": false,
    "deletable": true,
    "editable": true,
    "run_control": {
     "frozen": false,
     "read_only": false
    }
   },
   "outputs": [
    {
     "data": {
      "text/plain": [
       "array((array([[0, array(('bed',), \n",
       "      dtype=[('classname', 'O')])],\n",
       "       [1, array(('night_stand',), \n",
       "      dtype=[('classname', 'O')])],\n",
       "       [2, array(('ottoman',), \n",
       "      dtype=[('classname', 'O')])],\n",
       "       [3, array(('dresser_mirror',), \n",
       "      dtype=[('classname', 'O')])],\n",
       "       [4, array(('dresser',), \n",
       "      dtype=[('classname', 'O')])],\n",
       "       [5, array(('lamp',), \n",
       "      dtype=[('classname', 'O')])]], dtype=object), '000002_2014-05-26_14-23-37_260595134347_rgbf000103-resize'), \n",
       "      dtype=[('objects', 'O'), ('imageName', 'O')])"
      ]
     },
     "execution_count": 819,
     "metadata": {},
     "output_type": "execute_result"
    }
   ],
   "source": [
    "test_order['sun3DMeta'][0]"
   ]
  },
  {
   "cell_type": "code",
   "execution_count": 699,
   "metadata": {
    "collapsed": false,
    "deletable": true,
    "editable": true,
    "run_control": {
     "frozen": false,
     "read_only": false
    },
    "scrolled": false
   },
   "outputs": [
    {
     "data": {
      "text/plain": [
       "array((array([[0,\n",
       "        array(('bed', 1, array([328, 152, 346, 320]), 1), \n",
       "      dtype=[('classname', 'O'), ('has3D', 'O'), ('rect', 'O'), ('attached', 'O')])],\n",
       "       [1,\n",
       "        array(('night_stand', 1, array([ 572.54180602,  275.63545151,   98.37792642,   53.17725753]), 1), \n",
       "      dtype=[('classname', 'O'), ('has3D', 'O'), ('rect', 'O'), ('attached', 'O')])],\n",
       "       [2,\n",
       "        array(('ottoman', 1, array([ 332.35785953,  318.17725753,  316.40468227,  209.1638796 ]), 1), \n",
       "      dtype=[('classname', 'O'), ('has3D', 'O'), ('rect', 'O'), ('attached', 'O')])],\n",
       "       [3,\n",
       "        array(('dresser_mirror', 1, array([ 157.75919732,   10.63545151,  156.8729097 ,  362.4916388 ]), 1), \n",
       "      dtype=[('classname', 'O'), ('has3D', 'O'), ('rect', 'O'), ('attached', 'O')])],\n",
       "       [4,\n",
       "        array(('dresser', 1, array([  1,   1, 221, 529]), 1), \n",
       "      dtype=[('classname', 'O'), ('has3D', 'O'), ('rect', 'O'), ('attached', 'O')])],\n",
       "       [5,\n",
       "        array(('lamp', 0, array([ 614.19732441,  200.30100334,   54.94983278,   93.94648829]), 1), \n",
       "      dtype=[('classname', 'O'), ('has3D', 'O'), ('rect', 'O'), ('attached', 'O')])],\n",
       "       [6,\n",
       "        array(('pillow', 0, array([ 414.48717949,  230.43478261,  153.26210826,   48.15496098]), 1), \n",
       "      dtype=[('classname', 'O'), ('has3D', 'O'), ('rect', 'O'), ('attached', 'O')])]], dtype=object), '000002_2014-05-26_14-23-37_260595134347_rgbf000103-resize'), \n",
       "      dtype=[('objects', 'O'), ('imageName', 'O')])"
      ]
     },
     "execution_count": 699,
     "metadata": {},
     "output_type": "execute_result"
    }
   ],
   "source": [
    "test_order['sun2DMeta'][0]"
   ]
  },
  {
   "cell_type": "code",
   "execution_count": null,
   "metadata": {
    "collapsed": true
   },
   "outputs": [],
   "source": []
  },
  {
   "cell_type": "code",
   "execution_count": null,
   "metadata": {
    "collapsed": true
   },
   "outputs": [],
   "source": []
  },
  {
   "cell_type": "code",
   "execution_count": null,
   "metadata": {
    "collapsed": true
   },
   "outputs": [],
   "source": []
  },
  {
   "cell_type": "code",
   "execution_count": 507,
   "metadata": {
    "collapsed": false,
    "deletable": true,
    "editable": true,
    "run_control": {
     "frozen": false,
     "read_only": false
    }
   },
   "outputs": [
    {
     "data": {
      "text/plain": [
       "array([[0]])"
      ]
     },
     "execution_count": 507,
     "metadata": {},
     "output_type": "execute_result"
    }
   ],
   "source": [
    "test_order['sun2DMeta'].T[0][0][0][0][0][0][0]"
   ]
  },
  {
   "cell_type": "code",
   "execution_count": 512,
   "metadata": {
    "collapsed": true,
    "deletable": true,
    "editable": true,
    "run_control": {
     "frozen": false,
     "read_only": false
    }
   },
   "outputs": [],
   "source": [
    "iname, obs = list(v2_2d.items())[0]"
   ]
  },
  {
   "cell_type": "code",
   "execution_count": 634,
   "metadata": {
    "collapsed": false,
    "deletable": true,
    "editable": true,
    "run_control": {
     "frozen": false,
     "read_only": false
    }
   },
   "outputs": [],
   "source": [
    "all_objects = updated_2d_bbs['SUNRGBDMeta2DBB']['groundtruth2DBB']"
   ]
  },
  {
   "cell_type": "code",
   "execution_count": 652,
   "metadata": {
    "collapsed": false,
    "deletable": true,
    "editable": true,
    "run_control": {
     "frozen": false,
     "read_only": false
    }
   },
   "outputs": [
    {
     "data": {
      "text/plain": [
       "range(0, 10335)"
      ]
     },
     "execution_count": 652,
     "metadata": {},
     "output_type": "execute_result"
    }
   ],
   "source": [
    "range(all_objects.shape[0])"
   ]
  },
  {
   "cell_type": "code",
   "execution_count": 659,
   "metadata": {
    "collapsed": false,
    "deletable": true,
    "editable": true,
    "run_control": {
     "frozen": false,
     "read_only": false
    }
   },
   "outputs": [
    {
     "data": {
      "text/plain": [
       "array(['printer', 'counter', 'cabinet', 'door'], dtype=object)"
      ]
     },
     "execution_count": 659,
     "metadata": {},
     "output_type": "execute_result"
    }
   ],
   "source": [
    "all_objects[100]['classname']"
   ]
  },
  {
   "cell_type": "code",
   "execution_count": 686,
   "metadata": {
    "collapsed": false,
    "deletable": true,
    "editable": true,
    "run_control": {
     "frozen": false,
     "read_only": false
    }
   },
   "outputs": [],
   "source": [
    "all_obj_list = [all_objects[i]['classname'].tolist() for i in range(all_objects.shape[0]) if all_objects[i].dtype]"
   ]
  },
  {
   "cell_type": "code",
   "execution_count": 690,
   "metadata": {
    "collapsed": false,
    "deletable": true,
    "editable": true,
    "run_control": {
     "frozen": false,
     "read_only": false
    }
   },
   "outputs": [],
   "source": [
    "all_obj_list_flat = flattened_list = [item for sublist in all_obj_list for item in sublist]"
   ]
  },
  {
   "cell_type": "code",
   "execution_count": 696,
   "metadata": {
    "collapsed": false,
    "deletable": true,
    "editable": true,
    "run_control": {
     "frozen": false,
     "read_only": false
    }
   },
   "outputs": [
    {
     "data": {
      "text/plain": [
       "81672"
      ]
     },
     "execution_count": 696,
     "metadata": {},
     "output_type": "execute_result"
    }
   ],
   "source": [
    "len((all_obj_list_flat))"
   ]
  },
  {
   "cell_type": "code",
   "execution_count": null,
   "metadata": {
    "collapsed": true
   },
   "outputs": [],
   "source": []
  },
  {
   "cell_type": "code",
   "execution_count": null,
   "metadata": {
    "collapsed": true
   },
   "outputs": [],
   "source": []
  },
  {
   "cell_type": "code",
   "execution_count": null,
   "metadata": {
    "collapsed": true
   },
   "outputs": [],
   "source": []
  },
  {
   "cell_type": "code",
   "execution_count": null,
   "metadata": {
    "collapsed": true
   },
   "outputs": [],
   "source": []
  },
  {
   "cell_type": "markdown",
   "metadata": {
    "deletable": true,
    "editable": true
   },
   "source": [
    "# Write annotation"
   ]
  },
  {
   "cell_type": "code",
   "execution_count": 1155,
   "metadata": {
    "collapsed": true,
    "deletable": true,
    "editable": true,
    "run_control": {
     "frozen": false,
     "read_only": false
    }
   },
   "outputs": [],
   "source": [
    "import os"
   ]
  },
  {
   "cell_type": "code",
   "execution_count": 846,
   "metadata": {
    "collapsed": true,
    "deletable": true,
    "editable": true,
    "run_control": {
     "frozen": false,
     "read_only": false
    }
   },
   "outputs": [],
   "source": [
    "_ = '''\n",
    "{\n",
    "  \"text\": {\n",
    "    \"T40\": {\n",
    "      \"category\": \"unlabeled\",\n",
    "      \"box_id\": \"T40\",\n",
    "      \"source\": {\n",
    "        \"additionalProperties\": false,\n",
    "        \"$schema\": \"http://json-schema.org/draft-04/schema\",\n",
    "        \"type\": \"object\",\n",
    "        \"properties\": [\n",
    "          {\n",
    "            \"book_source\": \"Confusing_Science_Terms_Grades_5_-_8_Schyrlet_Cameron\"\n",
    "          },\n",
    "          {\n",
    "            \"page_n\": 12\n",
    "          }\n",
    "        ]\n",
    "      },\n",
    "      \"score\": 1,\n",
    "      \"contents\": \"BATTER\",\n",
    "      \"v_dim\": 2153,\n",
    "      \"rectangle\": [\n",
    "        [\n",
    "          788,\n",
    "          840\n",
    "        ],\n",
    "        [\n",
    "          862,\n",
    "          856\n",
    "        ]\n",
    "      ]\n",
    "    },\n",
    "'''"
   ]
  },
  {
   "cell_type": "code",
   "execution_count": 1105,
   "metadata": {
    "collapsed": false,
    "deletable": true,
    "editable": true,
    "run_control": {
     "frozen": false,
     "read_only": false
    }
   },
   "outputs": [
    {
     "data": {
      "text/plain": [
       "13"
      ]
     },
     "execution_count": 1105,
     "metadata": {},
     "output_type": "execute_result"
    }
   ],
   "source": [
    "len(sun_ds['img_0162']['objects']['2D']['objects'])"
   ]
  },
  {
   "cell_type": "code",
   "execution_count": 1092,
   "metadata": {
    "collapsed": false,
    "deletable": true,
    "editable": true,
    "run_control": {
     "frozen": false,
     "read_only": false
    }
   },
   "outputs": [],
   "source": [
    "# sun_ds['img_0063']"
   ]
  },
  {
   "cell_type": "code",
   "execution_count": 1110,
   "metadata": {
    "collapsed": true,
    "deletable": true,
    "editable": true,
    "run_control": {
     "frozen": false,
     "read_only": false
    }
   },
   "outputs": [
    {
     "data": {
      "text/plain": [
       "[{'annotator': '112.95.194.147',\n",
       "  'object': 6,\n",
       "  'x': [300,\n",
       "   195,\n",
       "   -41,\n",
       "   -39,\n",
       "   -8,\n",
       "   0,\n",
       "   283,\n",
       "   285,\n",
       "   239,\n",
       "   240,\n",
       "   255,\n",
       "   263,\n",
       "   262,\n",
       "   271,\n",
       "   279,\n",
       "   279,\n",
       "   302],\n",
       "  'y': [11,\n",
       "   -46,\n",
       "   -43,\n",
       "   156,\n",
       "   381,\n",
       "   432,\n",
       "   434,\n",
       "   348,\n",
       "   340,\n",
       "   328,\n",
       "   303,\n",
       "   282,\n",
       "   239,\n",
       "   236,\n",
       "   235,\n",
       "   39,\n",
       "   37]},\n",
       " {'object': 0,\n",
       "  'x': [270, 284, 298, 308, 290, 274, 262, 261],\n",
       "  'y': [326, 328, 325, 245, 240, 238, 244, 251]},\n",
       " {'object': 1,\n",
       "  'x': [303, 314, 325, 331, 335, 345, 346, 342, 337, 337, 325, 308],\n",
       "  'y': [303, 309, 308, 302, 295, 288, 279, 273, 272, 265, 259, 259]},\n",
       " {'object': 1, 'x': [335, 333, 339], 'y': [277, 286, 282]},\n",
       " {'object': 2,\n",
       "  'x': [322, 320, 294, 248, 263, 267, 278, 292, 300, 302, 311],\n",
       "  'y': [312, 325, 334, 331, 287, 325, 329, 329, 325, 307, 310]},\n",
       " {'object': 3, 'x': [414, 450, 463, 463, 410], 'y': [325, 317, 314, 310, 320]},\n",
       " {'object': 4,\n",
       "  'x': [429, 476, 488, 484, 435, 435, 481, 416, 416],\n",
       "  'y': [300, 306, 306, 273, 249, 275, 300, 295, 298]},\n",
       " {'object': 4, 'x': [430, 428, 469, 432], 'y': [263, 292, 296, 277]},\n",
       " {'object': 4,\n",
       "  'x': [418, 416, 426, 427, 432, 417, 417],\n",
       "  'y': [260, 288, 289, 260, 256, 254, 257]},\n",
       " {'object': 5,\n",
       "  'x': [281,\n",
       "   282,\n",
       "   307,\n",
       "   307,\n",
       "   385,\n",
       "   383,\n",
       "   341,\n",
       "   339,\n",
       "   339,\n",
       "   346,\n",
       "   347,\n",
       "   348,\n",
       "   414,\n",
       "   414,\n",
       "   416,\n",
       "   427,\n",
       "   427,\n",
       "   431,\n",
       "   433,\n",
       "   448,\n",
       "   448,\n",
       "   448,\n",
       "   560,\n",
       "   576],\n",
       "  'y': [39,\n",
       "   235,\n",
       "   244,\n",
       "   252,\n",
       "   250,\n",
       "   259,\n",
       "   258,\n",
       "   261,\n",
       "   268,\n",
       "   271,\n",
       "   278,\n",
       "   291,\n",
       "   290,\n",
       "   268,\n",
       "   253,\n",
       "   254,\n",
       "   249,\n",
       "   252,\n",
       "   246,\n",
       "   255,\n",
       "   249,\n",
       "   247,\n",
       "   239,\n",
       "   48]},\n",
       " {'object': 2,\n",
       "  'x': [589, 588, 581, 591, 599, 599],\n",
       "  'y': [130, 152, 172, 177, 177, 129]},\n",
       " {'object': 2,\n",
       "  'x': [597, 572, 562, 597, 598, 589, 580, 586, 586, 599, 599],\n",
       "  'y': [121, 118, 234, 238, 180, 178, 173, 152, 129, 127, 125]},\n",
       " {'object': 6,\n",
       "  'x': [306, 597, 599, 573, 577, 304],\n",
       "  'y': [14, 6, 120, 116, 47, 37]},\n",
       " {'object': 7,\n",
       "  'x': [313,\n",
       "   310,\n",
       "   284,\n",
       "   286,\n",
       "   242,\n",
       "   242,\n",
       "   254,\n",
       "   247,\n",
       "   247,\n",
       "   292,\n",
       "   308,\n",
       "   320,\n",
       "   324,\n",
       "   329,\n",
       "   337,\n",
       "   345,\n",
       "   412,\n",
       "   404,\n",
       "   348,\n",
       "   359,\n",
       "   374,\n",
       "   384,\n",
       "   403,\n",
       "   481,\n",
       "   461,\n",
       "   464,\n",
       "   488,\n",
       "   489,\n",
       "   492,\n",
       "   511,\n",
       "   524,\n",
       "   539,\n",
       "   553,\n",
       "   564,\n",
       "   577,\n",
       "   582,\n",
       "   598,\n",
       "   599],\n",
       "  'y': [351,\n",
       "   432,\n",
       "   434,\n",
       "   346,\n",
       "   339,\n",
       "   328,\n",
       "   309,\n",
       "   326,\n",
       "   332,\n",
       "   338,\n",
       "   333,\n",
       "   327,\n",
       "   312,\n",
       "   308,\n",
       "   297,\n",
       "   290,\n",
       "   293,\n",
       "   295,\n",
       "   296,\n",
       "   322,\n",
       "   326,\n",
       "   327,\n",
       "   344,\n",
       "   344,\n",
       "   319,\n",
       "   309,\n",
       "   308,\n",
       "   295,\n",
       "   291,\n",
       "   297,\n",
       "   297,\n",
       "   294,\n",
       "   301,\n",
       "   305,\n",
       "   301,\n",
       "   293,\n",
       "   296,\n",
       "   388]},\n",
       " {'object': 8, 'x': [407, 410, 555, 571], 'y': [366, 380, 399, 387]},\n",
       " {'object': 7,\n",
       "  'x': [334, 354, 359, 370, 381, 598, 598, 573, 557, 406, 405],\n",
       "  'y': [357, 388, 394, 397, 396, 431, 391, 386, 401, 382, 366]},\n",
       " {'object': 9,\n",
       "  'x': [490, 501, 511, 525, 540, 507, 488],\n",
       "  'y': [288, 291, 294, 294, 291, 289, 281]},\n",
       " {'object': 9,\n",
       "  'x': [456, 480, 502, 513, 535, 536, 518, 497],\n",
       "  'y': [254, 260, 267, 267, 273, 279, 272, 270]},\n",
       " {'object': 9,\n",
       "  'x': [537, 541, 549, 560, 575, 565, 551, 541, 536],\n",
       "  'y': [261, 281, 291, 295, 298, 302, 295, 289, 270]},\n",
       " {'object': 9, 'x': [544, 596], 'y': [277, 292]},\n",
       " {'object': 9,\n",
       "  'x': [550, 568, 576, 585, 597, 590, 575],\n",
       "  'y': [263, 270, 279, 280, 290, 281, 270]},\n",
       " {'object': 7,\n",
       "  'x': [470, 491, 512, 534, 537, 516, 507, 489, 484],\n",
       "  'y': [263, 272, 272, 281, 287, 287, 284, 278, 272]},\n",
       " {'object': 7, 'x': [548, 569, 585, 542, 542], 'y': [267, 276, 284, 272, 266]},\n",
       " {'object': 7, 'x': [565, 597, 599, 582], 'y': [263, 266, 286, 271]},\n",
       " {'object': 7,\n",
       "  'x': [495, 502, 518, 533, 534, 514, 501, 486],\n",
       "  'y': [254, 257, 261, 263, 270, 266, 265, 258]},\n",
       " {'object': 9, 'x': [568, 561, 576, 575], 'y': [287, 292, 295, 290]},\n",
       " {'object': 7, 'x': [544, 563, 557, 550], 'y': [280, 285, 292, 290]},\n",
       " {'object': 10, 'x': [-38, -41, -38, -2], 'y': [174, 164, 432, 434]},\n",
       " {'object': 11, 'x': [402, 383, 382, 403], 'y': [424, 424, 433, 434]},\n",
       " {'object': 10,\n",
       "  'x': [315, 314, 378, 379, 404, 407, 593, 482, 379, 367, 357, 333],\n",
       "  'y': [354, 433, 433, 422, 422, 433, 433, 413, 399, 399, 395, 357]},\n",
       " {'object': 12, 'x': [201, 598, 596, 304], 'y': [-46, -43, 4, 11]},\n",
       " {'object': 12, 'x': [277, 278, 243, 242], 'y': [-43, -7, -24, -43]}]"
      ]
     },
     "execution_count": 1110,
     "metadata": {},
     "output_type": "execute_result"
    }
   ],
   "source": [
    "sun_ds['img_0162']['objects']['2D']['frames'][0]['polygon']"
   ]
  },
  {
   "cell_type": "code",
   "execution_count": 1107,
   "metadata": {
    "collapsed": true,
    "deletable": true,
    "editable": true,
    "run_control": {
     "frozen": false,
     "read_only": false
    }
   },
   "outputs": [
    {
     "data": {
      "text/plain": [
       "[{'object': 0,\n",
       "  'x': [270, 284, 298, 308, 290, 274, 262, 261],\n",
       "  'y': [326, 328, 325, 245, 240, 238, 244, 251]},\n",
       " {'object': 1,\n",
       "  'x': [303, 314, 325, 331, 335, 345, 346, 342, 337, 337, 325, 308],\n",
       "  'y': [303, 309, 308, 302, 295, 288, 279, 273, 272, 265, 259, 259]},\n",
       " {'object': 1, 'x': [335, 333, 339], 'y': [277, 286, 282]},\n",
       " {'object': 2,\n",
       "  'x': [322, 320, 294, 248, 263, 267, 278, 292, 300, 302, 311],\n",
       "  'y': [312, 325, 334, 331, 287, 325, 329, 329, 325, 307, 310]},\n",
       " {'object': 2,\n",
       "  'x': [589, 588, 581, 591, 599, 599],\n",
       "  'y': [130, 152, 172, 177, 177, 129]},\n",
       " {'object': 2,\n",
       "  'x': [597, 572, 562, 597, 598, 589, 580, 586, 586, 599, 599],\n",
       "  'y': [121, 118, 234, 238, 180, 178, 173, 152, 129, 127, 125]},\n",
       " {'object': 3, 'x': [414, 450, 463, 463, 410], 'y': [325, 317, 314, 310, 320]},\n",
       " {'object': 4,\n",
       "  'x': [429, 476, 488, 484, 435, 435, 481, 416, 416],\n",
       "  'y': [300, 306, 306, 273, 249, 275, 300, 295, 298]},\n",
       " {'object': 4, 'x': [430, 428, 469, 432], 'y': [263, 292, 296, 277]},\n",
       " {'object': 4,\n",
       "  'x': [418, 416, 426, 427, 432, 417, 417],\n",
       "  'y': [260, 288, 289, 260, 256, 254, 257]},\n",
       " {'object': 5,\n",
       "  'x': [281,\n",
       "   282,\n",
       "   307,\n",
       "   307,\n",
       "   385,\n",
       "   383,\n",
       "   341,\n",
       "   339,\n",
       "   339,\n",
       "   346,\n",
       "   347,\n",
       "   348,\n",
       "   414,\n",
       "   414,\n",
       "   416,\n",
       "   427,\n",
       "   427,\n",
       "   431,\n",
       "   433,\n",
       "   448,\n",
       "   448,\n",
       "   448,\n",
       "   560,\n",
       "   576],\n",
       "  'y': [39,\n",
       "   235,\n",
       "   244,\n",
       "   252,\n",
       "   250,\n",
       "   259,\n",
       "   258,\n",
       "   261,\n",
       "   268,\n",
       "   271,\n",
       "   278,\n",
       "   291,\n",
       "   290,\n",
       "   268,\n",
       "   253,\n",
       "   254,\n",
       "   249,\n",
       "   252,\n",
       "   246,\n",
       "   255,\n",
       "   249,\n",
       "   247,\n",
       "   239,\n",
       "   48]},\n",
       " {'annotator': '112.95.194.147',\n",
       "  'object': 6,\n",
       "  'x': [300,\n",
       "   195,\n",
       "   -41,\n",
       "   -39,\n",
       "   -8,\n",
       "   0,\n",
       "   283,\n",
       "   285,\n",
       "   239,\n",
       "   240,\n",
       "   255,\n",
       "   263,\n",
       "   262,\n",
       "   271,\n",
       "   279,\n",
       "   279,\n",
       "   302],\n",
       "  'y': [11,\n",
       "   -46,\n",
       "   -43,\n",
       "   156,\n",
       "   381,\n",
       "   432,\n",
       "   434,\n",
       "   348,\n",
       "   340,\n",
       "   328,\n",
       "   303,\n",
       "   282,\n",
       "   239,\n",
       "   236,\n",
       "   235,\n",
       "   39,\n",
       "   37]},\n",
       " {'object': 6,\n",
       "  'x': [306, 597, 599, 573, 577, 304],\n",
       "  'y': [14, 6, 120, 116, 47, 37]},\n",
       " {'object': 7,\n",
       "  'x': [313,\n",
       "   310,\n",
       "   284,\n",
       "   286,\n",
       "   242,\n",
       "   242,\n",
       "   254,\n",
       "   247,\n",
       "   247,\n",
       "   292,\n",
       "   308,\n",
       "   320,\n",
       "   324,\n",
       "   329,\n",
       "   337,\n",
       "   345,\n",
       "   412,\n",
       "   404,\n",
       "   348,\n",
       "   359,\n",
       "   374,\n",
       "   384,\n",
       "   403,\n",
       "   481,\n",
       "   461,\n",
       "   464,\n",
       "   488,\n",
       "   489,\n",
       "   492,\n",
       "   511,\n",
       "   524,\n",
       "   539,\n",
       "   553,\n",
       "   564,\n",
       "   577,\n",
       "   582,\n",
       "   598,\n",
       "   599],\n",
       "  'y': [351,\n",
       "   432,\n",
       "   434,\n",
       "   346,\n",
       "   339,\n",
       "   328,\n",
       "   309,\n",
       "   326,\n",
       "   332,\n",
       "   338,\n",
       "   333,\n",
       "   327,\n",
       "   312,\n",
       "   308,\n",
       "   297,\n",
       "   290,\n",
       "   293,\n",
       "   295,\n",
       "   296,\n",
       "   322,\n",
       "   326,\n",
       "   327,\n",
       "   344,\n",
       "   344,\n",
       "   319,\n",
       "   309,\n",
       "   308,\n",
       "   295,\n",
       "   291,\n",
       "   297,\n",
       "   297,\n",
       "   294,\n",
       "   301,\n",
       "   305,\n",
       "   301,\n",
       "   293,\n",
       "   296,\n",
       "   388]},\n",
       " {'object': 7,\n",
       "  'x': [334, 354, 359, 370, 381, 598, 598, 573, 557, 406, 405],\n",
       "  'y': [357, 388, 394, 397, 396, 431, 391, 386, 401, 382, 366]},\n",
       " {'object': 7,\n",
       "  'x': [470, 491, 512, 534, 537, 516, 507, 489, 484],\n",
       "  'y': [263, 272, 272, 281, 287, 287, 284, 278, 272]},\n",
       " {'object': 7, 'x': [548, 569, 585, 542, 542], 'y': [267, 276, 284, 272, 266]},\n",
       " {'object': 7, 'x': [565, 597, 599, 582], 'y': [263, 266, 286, 271]},\n",
       " {'object': 7,\n",
       "  'x': [495, 502, 518, 533, 534, 514, 501, 486],\n",
       "  'y': [254, 257, 261, 263, 270, 266, 265, 258]},\n",
       " {'object': 7, 'x': [544, 563, 557, 550], 'y': [280, 285, 292, 290]},\n",
       " {'object': 8, 'x': [407, 410, 555, 571], 'y': [366, 380, 399, 387]},\n",
       " {'object': 9,\n",
       "  'x': [490, 501, 511, 525, 540, 507, 488],\n",
       "  'y': [288, 291, 294, 294, 291, 289, 281]},\n",
       " {'object': 9,\n",
       "  'x': [456, 480, 502, 513, 535, 536, 518, 497],\n",
       "  'y': [254, 260, 267, 267, 273, 279, 272, 270]},\n",
       " {'object': 9,\n",
       "  'x': [537, 541, 549, 560, 575, 565, 551, 541, 536],\n",
       "  'y': [261, 281, 291, 295, 298, 302, 295, 289, 270]},\n",
       " {'object': 9, 'x': [544, 596], 'y': [277, 292]},\n",
       " {'object': 9,\n",
       "  'x': [550, 568, 576, 585, 597, 590, 575],\n",
       "  'y': [263, 270, 279, 280, 290, 281, 270]},\n",
       " {'object': 9, 'x': [568, 561, 576, 575], 'y': [287, 292, 295, 290]},\n",
       " {'object': 10, 'x': [-38, -41, -38, -2], 'y': [174, 164, 432, 434]},\n",
       " {'object': 10,\n",
       "  'x': [315, 314, 378, 379, 404, 407, 593, 482, 379, 367, 357, 333],\n",
       "  'y': [354, 433, 433, 422, 422, 433, 433, 413, 399, 399, 395, 357]},\n",
       " {'object': 11, 'x': [402, 383, 382, 403], 'y': [424, 424, 433, 434]},\n",
       " {'object': 12, 'x': [201, 598, 596, 304], 'y': [-46, -43, 4, 11]},\n",
       " {'object': 12, 'x': [277, 278, 243, 242], 'y': [-43, -7, -24, -43]}]"
      ]
     },
     "execution_count": 1107,
     "metadata": {},
     "output_type": "execute_result"
    }
   ],
   "source": [
    "sorted(sun_ds['img_0162']['objects']['2D']['frames'][0]['polygon'], key=lambda x: x['object'])"
   ]
  },
  {
   "cell_type": "code",
   "execution_count": null,
   "metadata": {
    "collapsed": true
   },
   "outputs": [],
   "source": []
  },
  {
   "cell_type": "code",
   "execution_count": null,
   "metadata": {
    "collapsed": true
   },
   "outputs": [],
   "source": []
  },
  {
   "cell_type": "code",
   "execution_count": null,
   "metadata": {
    "collapsed": true
   },
   "outputs": [],
   "source": []
  },
  {
   "cell_type": "code",
   "execution_count": 1446,
   "metadata": {
    "collapsed": false,
    "deletable": true,
    "editable": true,
    "run_control": {
     "frozen": false,
     "read_only": false
    }
   },
   "outputs": [],
   "source": [
    "def make_annotation_json(image_name, image_annotation):\n",
    "    def get_bbox(polygon):\n",
    "        xs = [max(0, x) for x in polygon['x']]\n",
    "        ys = [max(0, y) for y in polygon['y']]\n",
    "        return [[min(xs), min(ys)], [max(xs), max(ys)]]\n",
    "    \n",
    "    image_objects = image_annotation['objects']['2D']['objects']\n",
    "    image_poly = sorted(image_annotation['objects']['2D']['frames'][0]['polygon'], key=lambda x: x['object'])\n",
    "    image_path = image_annotation['imgPath']\n",
    "    annotations = {}\n",
    "    for obj_id in range(len(image_poly)):\n",
    "        box_id = 'T' + str(obj_id)\n",
    "        annotations[box_id] = {\n",
    "            \"box_id\": box_id,\n",
    "            \"category\": 'unlabeled',\n",
    "            \"rectangle\": get_bbox(image_poly[obj_id]),\n",
    "            \"v_dim\": img_heights[image_name],\n",
    "            \"contents\": image_objects[image_poly[obj_id]['object']]['name']\n",
    "        }\n",
    "#     with open('image_annotation_scaff/' + image_name + '.json', 'w') as f:\n",
    "#         json.dump({'text': annotations}, f, indent=5)\n",
    "    return {image_name: image_path + '/' + image_name}, {'text': annotations}"
   ]
  },
  {
   "cell_type": "code",
   "execution_count": 1140,
   "metadata": {
    "collapsed": false,
    "deletable": true,
    "editable": true,
    "run_control": {
     "frozen": false,
     "read_only": false
    }
   },
   "outputs": [],
   "source": [
    "sampled_images = np.random.choice(list(sun_ds.keys()), 500)"
   ]
  },
  {
   "cell_type": "code",
   "execution_count": 1401,
   "metadata": {
    "collapsed": true,
    "deletable": true,
    "editable": true,
    "run_control": {
     "frozen": false,
     "read_only": false
    }
   },
   "outputs": [],
   "source": [
    "remaining_images = [img for img in sun_ds.keys() if img not in sampled_images]"
   ]
  },
  {
   "cell_type": "code",
   "execution_count": 1537,
   "metadata": {
    "collapsed": false
   },
   "outputs": [
    {
     "data": {
      "text/plain": [
       "9782"
      ]
     },
     "execution_count": 1537,
     "metadata": {},
     "output_type": "execute_result"
    }
   ],
   "source": [
    "len(remaining_images)"
   ]
  },
  {
   "cell_type": "code",
   "execution_count": 1416,
   "metadata": {
    "collapsed": false,
    "deletable": true,
    "editable": true,
    "run_control": {
     "frozen": false,
     "read_only": false
    }
   },
   "outputs": [],
   "source": [
    "with open('rem_image.pkl', 'wb') as f:\n",
    "    pickle.dump(remaining_images, f, protocol=2)"
   ]
  },
  {
   "cell_type": "code",
   "execution_count": 1452,
   "metadata": {
    "collapsed": false,
    "deletable": true,
    "editable": true,
    "run_control": {
     "frozen": false,
     "read_only": false
    }
   },
   "outputs": [],
   "source": [
    "all_errors = []\n",
    "image_paths = {}\n",
    "sample_annotations = {}\n",
    "for image_name in list(remaining_images) + list(sampled_images):\n",
    "    try:\n",
    "        annotations = sun_ds[image_name]\n",
    "        ipath, anno = make_annotation_json(image_name, annotations)\n",
    "        image_paths.update(ipath)\n",
    "        sample_annotations.update({image_name: anno})\n",
    "    except (IndexError, ValueError, KeyError, TypeError) as e:\n",
    "        all_errors.append(e)\n",
    "        continue"
   ]
  },
  {
   "cell_type": "code",
   "execution_count": 1453,
   "metadata": {
    "collapsed": false,
    "deletable": true,
    "editable": true,
    "run_control": {
     "frozen": false,
     "read_only": false
    }
   },
   "outputs": [
    {
     "data": {
      "text/plain": [
       "9606"
      ]
     },
     "execution_count": 1453,
     "metadata": {},
     "output_type": "execute_result"
    }
   ],
   "source": [
    "len(image_paths)"
   ]
  },
  {
   "cell_type": "code",
   "execution_count": 1195,
   "metadata": {
    "collapsed": true,
    "deletable": true,
    "editable": true,
    "run_control": {
     "frozen": false,
     "read_only": false
    }
   },
   "outputs": [],
   "source": [
    "all_image_files = glob.glob('./SUNRGBD/*/*/*/image/*')"
   ]
  },
  {
   "cell_type": "code",
   "execution_count": 1412,
   "metadata": {
    "code_folding": [],
    "collapsed": false,
    "deletable": true,
    "editable": true,
    "run_control": {
     "frozen": false,
     "read_only": false
    }
   },
   "outputs": [],
   "source": [
    "for image_name, i_path in image_paths.items():\n",
    "    original_image_dir = os.path.join(i_path, 'image')\n",
    "    old_name = os.listdir(original_image_dir)[0]\n",
    "    original_image_path = os.path.join('/Users/schwenk/wrk/pqa/sunrgbd', i_path, 'image', old_name)\n",
    "    base_image_path = '/Users/schwenk/wrk/pqa/ai2-vision-turk-data/pqa-annotation/images/'\n",
    "    new_image_path = base_image_path + image_name + '.jpg'\n",
    "    os.symlink(original_image_path, new_image_path)"
   ]
  },
  {
   "cell_type": "markdown",
   "metadata": {
    "deletable": true,
    "editable": true
   },
   "source": [
    "# Visualize annotation results"
   ]
  },
  {
   "cell_type": "code",
   "execution_count": 1244,
   "metadata": {
    "collapsed": false,
    "deletable": true,
    "editable": true,
    "run_control": {
     "frozen": false,
     "read_only": false
    }
   },
   "outputs": [],
   "source": [
    "import PIL.Image as Image\n",
    "import PIL.ImageDraw as ImageDraw"
   ]
  },
  {
   "cell_type": "code",
   "execution_count": 1707,
   "metadata": {
    "collapsed": false
   },
   "outputs": [],
   "source": [
    "cons_res_df_1 = pd.read_pickle('../../pqa/turk_processing/first_round_results.pkl')\n",
    "cons_res_df_2 = pd.read_pickle('../../pqa/turk_processing/second_round_results.pkl')\n",
    "cons_res_df_3 = pd.read_pickle('../../pqa/turk_processing/filtered_second_round_results.pkl')\n",
    "cons_res_df_4 = pd.read_pickle('../../pqa/turk_processing/third_round_results.pkl')\n",
    "cons_res_df_5 = pd.read_pickle('../../pqa/turk_processing/combined_round2_3_results.pkl')\n",
    "cons_res_df_6 = pd.read_pickle('../../pqa/turk_processing/round_4_qual.pkl')"
   ]
  },
  {
   "cell_type": "code",
   "execution_count": 1708,
   "metadata": {
    "collapsed": true
   },
   "outputs": [],
   "source": [
    "# cons_res_df = cons_res_df_1.append(cons_res_df_2)\n",
    "cons_res_df = cons_res_df_6"
   ]
  },
  {
   "cell_type": "code",
   "execution_count": 1709,
   "metadata": {
    "collapsed": false,
    "deletable": true,
    "editable": true,
    "run_control": {
     "frozen": false,
     "read_only": false
    }
   },
   "outputs": [],
   "source": [
    "cons_res_df['image_name'] = cons_res_df['page'].apply(lambda x: x.split('.jpg')[0])"
   ]
  },
  {
   "cell_type": "code",
   "execution_count": 1710,
   "metadata": {
    "collapsed": false
   },
   "outputs": [
    {
     "data": {
      "text/plain": [
       "0.1391144693171386"
      ]
     },
     "execution_count": 1710,
     "metadata": {},
     "output_type": "execute_result"
    }
   ],
   "source": [
    "attached_item_count = cons_res_df[cons_res_df['category'] == 'Attached'].shape[0]\n",
    "attached_item_count / cons_res_df.shape[0]"
   ]
  },
  {
   "cell_type": "code",
   "execution_count": 1711,
   "metadata": {
    "collapsed": false
   },
   "outputs": [
    {
     "data": {
      "text/plain": [
       "0.8345021037868162"
      ]
     },
     "execution_count": 1711,
     "metadata": {},
     "output_type": "execute_result"
    }
   ],
   "source": [
    "n_images_w_attached = pd.unique(cons_res_df[cons_res_df['category'] == 'Attached']['page']).shape[0]\n",
    "n_images_w_attached / pd.unique(cons_res_df['page']).shape[0]"
   ]
  },
  {
   "cell_type": "code",
   "execution_count": 1712,
   "metadata": {
    "collapsed": true,
    "deletable": true,
    "editable": true,
    "run_control": {
     "frozen": false,
     "read_only": false
    }
   },
   "outputs": [],
   "source": [
    "def lookup_box_rect(row):\n",
    "    part_anno = sample_annotations[row['page'].split('.jpg')[0]]\n",
    "    rect = part_anno['text'][row['box_id']]['rectangle']\n",
    "    return tuple(rect[0]), tuple(rect[1])"
   ]
  },
  {
   "cell_type": "code",
   "execution_count": 1713,
   "metadata": {
    "collapsed": false,
    "deletable": true,
    "editable": true,
    "run_control": {
     "frozen": false,
     "read_only": false
    }
   },
   "outputs": [],
   "source": [
    "cons_res_df['rect'] = cons_res_df.apply(lookup_box_rect, axis=1)\n",
    "# cons_res_df_na = cons_res_df[~cons_res_df['page'].isin(pages_with_attached)]\n",
    "cons_res_attached = cons_res_df[cons_res_df['category'] == 'Attached']"
   ]
  },
  {
   "cell_type": "code",
   "execution_count": 1714,
   "metadata": {
    "collapsed": false,
    "deletable": true,
    "editable": true,
    "run_control": {
     "frozen": false,
     "read_only": false
    }
   },
   "outputs": [],
   "source": [
    "grouped_cons_by_page = cons_res_attached.groupby('page')\n",
    "page_agged = grouped_cons_by_page.agg(lambda x: tuple(x))"
   ]
  },
  {
   "cell_type": "code",
   "execution_count": 1715,
   "metadata": {
    "collapsed": false,
    "deletable": true,
    "editable": true,
    "run_control": {
     "frozen": false,
     "read_only": false
    },
    "scrolled": true
   },
   "outputs": [],
   "source": [
    "pages_with_attached = page_agged.index.tolist()"
   ]
  },
  {
   "cell_type": "code",
   "execution_count": 1716,
   "metadata": {
    "collapsed": false,
    "deletable": true,
    "editable": true,
    "run_control": {
     "frozen": false,
     "read_only": false
    }
   },
   "outputs": [],
   "source": [
    "def draw_attached(image_name, boxes):\n",
    "    image_dir_name = image_name.split('.jpg')[0]\n",
    "    image_path = glob.glob(os.path.join(image_paths[image_dir_name], 'image', '*' + '.jpg'))[0]\n",
    "    pimage = Image.open(image_path)\n",
    "    for rect in boxes:\n",
    "        draw = ImageDraw.Draw(pimage)\n",
    "        draw.rectangle(rect)\n",
    "    pimage.save('./new_attached_task_renders/' + image_name)"
   ]
  },
  {
   "cell_type": "code",
   "execution_count": 1717,
   "metadata": {
    "collapsed": true
   },
   "outputs": [],
   "source": [
    "samples_to_draw = page_agged.sample(100)"
   ]
  },
  {
   "cell_type": "code",
   "execution_count": 1718,
   "metadata": {
    "collapsed": false,
    "deletable": true,
    "editable": true,
    "run_control": {
     "frozen": false,
     "read_only": false
    }
   },
   "outputs": [],
   "source": [
    "for i in range(samples_to_draw.shape[0]):\n",
    "    draw_attached(samples_to_draw.index[i], samples_to_draw['rect'][i])"
   ]
  },
  {
   "cell_type": "code",
   "execution_count": null,
   "metadata": {
    "collapsed": true
   },
   "outputs": [],
   "source": []
  },
  {
   "cell_type": "code",
   "execution_count": null,
   "metadata": {
    "collapsed": true
   },
   "outputs": [],
   "source": []
  },
  {
   "cell_type": "code",
   "execution_count": null,
   "metadata": {
    "collapsed": true
   },
   "outputs": [],
   "source": []
  },
  {
   "cell_type": "code",
   "execution_count": null,
   "metadata": {
    "collapsed": true
   },
   "outputs": [],
   "source": []
  },
  {
   "cell_type": "code",
   "execution_count": null,
   "metadata": {
    "collapsed": true
   },
   "outputs": [],
   "source": []
  },
  {
   "cell_type": "code",
   "execution_count": null,
   "metadata": {
    "collapsed": true
   },
   "outputs": [],
   "source": []
  },
  {
   "cell_type": "markdown",
   "metadata": {
    "collapsed": true,
    "deletable": true,
    "editable": true,
    "heading_collapsed": true,
    "run_control": {
     "frozen": false,
     "read_only": false
    }
   },
   "source": [
    "# match to 3D annotations"
   ]
  },
  {
   "cell_type": "code",
   "execution_count": 1538,
   "metadata": {
    "collapsed": true,
    "deletable": true,
    "editable": true,
    "hidden": true,
    "run_control": {
     "frozen": false,
     "read_only": false
    }
   },
   "outputs": [],
   "source": [
    "def area_intersect_over_union(segmentImage1, segmentImage2, segmentArea1 = 0, segmentArea2 = 0):\n",
    "    areaIntersection = np.sum(segmentImage1 & segmentImage2)\n",
    "    if areaIntersection == 0:\n",
    "        return 0, 0, 0\n",
    "    if segmentArea1 == 0:\n",
    "        segmentArea1 = np.sum(segmentImage1)\n",
    "    if segmentArea2 == 0:\n",
    "        segmentArea2 = np.sum(segmentImage2)\n",
    "    areaOverlap = areaIntersection / (segmentArea1 + segmentArea2 - areaIntersection + 0.01)\n",
    "    areaSelfOverlap1 = areaIntersection / (segmentArea1 + 0.01)\n",
    "    areaSelfOverlap2 = areaIntersection / (segmentArea2 + 0.01)\n",
    "    return areaOverlap, areaSelfOverlap1, areaSelfOverlap2\n",
    "\n",
    "\n",
    "def comp_iou(raw_image, ocr_box, anno_box):\n",
    "\n",
    "    def update_img(mask, box):\n",
    "        # box\n",
    "        # some rectangle of the structure [[start_x, start_y], [end_x, end_y]\n",
    "        start_x, start_y = box[0]\n",
    "        end_x, end_y = box[1]\n",
    "        mask[start_y:end_y + 1, start_x:end_x + 1] = True\n",
    "\n",
    "    mask_a = np.zeros(raw_image.shape[0:2], dtype=np.bool)\n",
    "    mask_b = np.zeros(raw_image.shape[0:2], dtype=np.bool)\n",
    "    update_img(mask_a, ocr_box['rectangle'])\n",
    "    update_img(mask_b, anno_box['rectangle'])\n",
    "\n",
    "    areaOverlap, areaSelfOverlap1, areaSelfOverlap2 = areaIntersectOverUnion(mask_a, mask_b)\n",
    "\n",
    "    #iou = (mask == 2).sum() / (mask >= 1).sum()\n",
    "    return areaOverlap, areaSelfOverlap1, areaSelfOverlap2 "
   ]
  },
  {
   "cell_type": "code",
   "execution_count": 1677,
   "metadata": {
    "collapsed": true,
    "hidden": true
   },
   "outputs": [],
   "source": [
    "grouped_by_page = cons_res_df_5.groupby('page')"
   ]
  },
  {
   "cell_type": "code",
   "execution_count": 1686,
   "metadata": {
    "collapsed": false,
    "hidden": true
   },
   "outputs": [],
   "source": [
    "single_test_image_df = grouped_by_page.get_group(cons_res_df_5['page'][500])"
   ]
  },
  {
   "cell_type": "code",
   "execution_count": 1693,
   "metadata": {
    "collapsed": false,
    "hidden": true,
    "scrolled": true
   },
   "outputs": [],
   "source": [
    "test_image_name = single_test_image_df['page'].iloc[0].replace('.jpg', '')"
   ]
  },
  {
   "cell_type": "code",
   "execution_count": 1696,
   "metadata": {
    "collapsed": false,
    "deletable": true,
    "editable": true,
    "hidden": true
   },
   "outputs": [],
   "source": [
    "# sun_ds['img_0162']['objects']['2D']['frames'][0]['polygon']"
   ]
  },
  {
   "cell_type": "code",
   "execution_count": 1698,
   "metadata": {
    "collapsed": false,
    "hidden": true
   },
   "outputs": [
    {
     "data": {
      "text/plain": [
       "dict_keys(['2D'])"
      ]
     },
     "execution_count": 1698,
     "metadata": {},
     "output_type": "execute_result"
    }
   ],
   "source": [
    "sun_ds[test_image_name]['objects'].keys()"
   ]
  },
  {
   "cell_type": "code",
   "execution_count": 1704,
   "metadata": {
    "collapsed": false,
    "hidden": true,
    "scrolled": true
   },
   "outputs": [
    {
     "data": {
      "text/plain": [
       "{'conflictList': [None],\n",
       " 'date': 'Wed, 04 Mar 2015 02:38:57 GMT',\n",
       " 'extrinsics': '20140915210114.txt',\n",
       " 'fileList': ['img_0063.jpg'],\n",
       " 'frames': [{}],\n",
       " 'name': 'b3do/img_0063//',\n",
       " 'objects': [{'name': 'bookshelf',\n",
       "   'polygon': [{'X': [-0.15,\n",
       "      0.6968309773606108,\n",
       "      0.5599692604758523,\n",
       "      -0.2868617168847586],\n",
       "     'Ymax': 1.0772727272727274,\n",
       "     'Ymin': -0.6590909090909091,\n",
       "     'Z': [1.7454545454545454,\n",
       "      2.0797299312547852,\n",
       "      2.4264462806961755,\n",
       "      2.0921708948959292],\n",
       "     'rectangle': True}]},\n",
       "  None,\n",
       "  {'name': 'bookshelf',\n",
       "   'polygon': [{'X': [-0.22311008247374234,\n",
       "      -1.0863636363636364,\n",
       "      -1.2424112173688295,\n",
       "      -0.3791576634789356],\n",
       "     'Ymax': 1.0823231090198864,\n",
       "     'Ymin': -0.6590909090909091,\n",
       "     'Z': [1.6964473554359838,\n",
       "      1.3727272727272728,\n",
       "      1.7888541554077861,\n",
       "      2.112574238116498],\n",
       "     'rectangle': True}]},\n",
       "  None,\n",
       "  {'name': 'chair',\n",
       "   'polygon': [{'X': [0.46866039115813524,\n",
       "      0.6627761060708446,\n",
       "      1.3674072265625,\n",
       "      1.173291511649784],\n",
       "     'Ymax': 1.0772727272727274,\n",
       "     'Ymin': 0.2318181818181818,\n",
       "     'Z': [1.7811089080849545,\n",
       "      1.2804946959415706,\n",
       "      1.553719007968902,\n",
       "      2.0543332201122904],\n",
       "     'rectangle': True}]},\n",
       "  {'name': 'projector',\n",
       "   'polygon': [{'X': [-0.8883620689655174,\n",
       "      -0.43381661442006236,\n",
       "      -0.37927115987460785,\n",
       "      -0.8258228840125397],\n",
       "     'Ymax': 0.08636363636363636,\n",
       "     'Ymin': -0.1409090909090909,\n",
       "     'Z': [1.6432993730407521,\n",
       "      1.8251175548589333,\n",
       "      1.6887539184952975,\n",
       "      1.4973746081504704],\n",
       "     'rectangle': True}]},\n",
       "  {'name': 'books',\n",
       "   'polygon': [{'X': [-0.41818181818181815,\n",
       "      -0.3,\n",
       "      -0.33636363636363636,\n",
       "      -0.45454545454545453],\n",
       "     'Ymax': 0.4590909090909091,\n",
       "     'Ymin': 0.20454545454545456,\n",
       "     'Z': [1.9727272727272727,\n",
       "      2.018181818181818,\n",
       "      2.118181818181818,\n",
       "      2.0727272727272728],\n",
       "     'rectangle': True}]},\n",
       "  {'name': 'books',\n",
       "   'polygon': [{'X': [-1.0256514051450956,\n",
       "      -0.4695926809418681,\n",
       "      -0.5423545255893104,\n",
       "      -1.1078559337782712],\n",
       "     'Ymax': 0.740909090909091,\n",
       "     'Ymin': 0.5409090909090909,\n",
       "     'Z': [1.5698617467630869,\n",
       "      1.8039917359012883,\n",
       "      1.9883217423414719,\n",
       "      1.765097502266879],\n",
       "     'rectangle': True}]},\n",
       "  {'name': 'switch',\n",
       "   'polygon': [{'X': [0.6409090909090909,\n",
       "      0.75,\n",
       "      0.7136363636363636,\n",
       "      0.6045454545454545],\n",
       "     'Ymax': 0.05909090909090909,\n",
       "     'Ymin': -0.19545454545454546,\n",
       "     'Z': [1.9863636363636363,\n",
       "      2.0318181818181817,\n",
       "      2.1227272727272726,\n",
       "      2.077272727272727],\n",
       "     'rectangle': True}]},\n",
       "  None]}"
      ]
     },
     "execution_count": 1704,
     "metadata": {},
     "output_type": "execute_result"
    }
   ],
   "source": [
    "list(sun_ds_scaf.values())[0]['objects']['3D']"
   ]
  },
  {
   "cell_type": "code",
   "execution_count": null,
   "metadata": {
    "collapsed": true,
    "hidden": true
   },
   "outputs": [],
   "source": []
  },
  {
   "cell_type": "markdown",
   "metadata": {
    "deletable": true,
    "editable": true,
    "heading_collapsed": true
   },
   "source": [
    "# Hide"
   ]
  },
  {
   "cell_type": "code",
   "execution_count": 146,
   "metadata": {
    "collapsed": false,
    "deletable": true,
    "editable": true,
    "hidden": true,
    "run_control": {
     "frozen": false,
     "read_only": false
    },
    "scrolled": false
   },
   "outputs": [],
   "source": [
    "# %page single_image_anno"
   ]
  },
  {
   "cell_type": "code",
   "execution_count": null,
   "metadata": {
    "collapsed": true,
    "deletable": true,
    "editable": true,
    "hidden": true,
    "run_control": {
     "frozen": false,
     "read_only": false
    }
   },
   "outputs": [],
   "source": [
    "# updated_2d_bbs = loadmat('./SUNRGBDMeta2DBB_v2.mat')['SUNRGBDMeta2DBB'].T\n",
    "# updated_3d_bbs = loadmat('./SUNRGBDMeta3DBB_v2.mat')['SUNRGBDMeta'].T\n",
    "# v2_suppl_2d = build_v2_addition(updated_2d_bbs)"
   ]
  },
  {
   "cell_type": "code",
   "execution_count": 71,
   "metadata": {
    "collapsed": false,
    "deletable": true,
    "editable": true,
    "hidden": true,
    "run_control": {
     "frozen": false,
     "read_only": false
    }
   },
   "outputs": [],
   "source": [
    "# fnl = [anno['2D']['fileList'] for anno in sun_ds_scaf.values() if '2D' in anno.keys() and len(anno['2D']['fileList']) == 1]\n",
    "\n",
    "# pd.Series([len(anno['2D']['fileList']) for anno in sun_ds_scaf.values() if '2D' in anno.keys()]).value_counts()\n",
    "\n",
    "# cflct = [anno['2D']['conflictList'] for anno in sun_ds_scaf.values() if '2D' in anno.keys() and len(anno['2D']['fileList']) == 1]"
   ]
  }
 ],
 "metadata": {
  "kernelspec": {
   "display_name": "Python 3",
   "language": "python",
   "name": "python3"
  },
  "language_info": {
   "codemirror_mode": {
    "name": "ipython",
    "version": 3
   },
   "file_extension": ".py",
   "mimetype": "text/x-python",
   "name": "python",
   "nbconvert_exporter": "python",
   "pygments_lexer": "ipython3",
   "version": "3.6.0"
  }
 },
 "nbformat": 4,
 "nbformat_minor": 2
}
